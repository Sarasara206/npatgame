{
  "nbformat": 4,
  "nbformat_minor": 0,
  "metadata": {
    "colab": {
      "provenance": []
    },
    "kernelspec": {
      "name": "python3",
      "display_name": "Python 3"
    },
    "language_info": {
      "name": "python"
    }
  },
  "cells": [
    {
      "cell_type": "code",
      "source": [
        "import string\n",
        "string.ascii_letters\n",
        "\n",
        "import random\n",
        "r = random.choice(string.ascii_letters)\n",
        "\n",
        "print(\"Welcome to FIRST LETTER OF NPAT game!\")\n",
        "s = input(\"Are you ready to play? type (yes/no):\")\n",
        "score = 0\n",
        "if s.lower() != \"yes\":\n",
        "    quit()\n",
        "else:\n",
        "    print(\"Let's start the game\")\n",
        "    print(\"Here is your starting letter\", r)\n",
        "    N = input(f\"Enter a name starting with {r}:\")\n",
        "    if N[0].lower() == r[0] :\n",
        "        print(\"Correct\")\n",
        "        score += 1\n",
        "    else:\n",
        "        print(\"Incorrect\")\n",
        "    P = input(f\"Enter a place starting with {r}:\")\n",
        "    if P[0].lower() == r[0] :\n",
        "        print(\"Correct\")\n",
        "        score += 1\n",
        "    else:\n",
        "        print(\"Incorrect\")\n",
        "    A = input(f\"Enter a animal name starting with {r}:\")\n",
        "    if A[0].lower() == r[0] :\n",
        "        print(\"Correct\")\n",
        "        score += 1\n",
        "    else:\n",
        "        print(\"Incorrect\")\n",
        "    T = input(f\"Enter a thing starting with {r}:\")\n",
        "    if T[0].lower() == r[0] :\n",
        "        print(\"Correct\")\n",
        "        score += 1\n",
        "    else:\n",
        "        print(\"Incorrect\")\n",
        "print(f\"Your score for guessing letter {r} is {score}\")\n",
        "print(\"Thank you for playing NPAT game!\")"
      ],
      "metadata": {
        "colab": {
          "base_uri": "https://localhost:8080/"
        },
        "id": "JgTPY6_Bj_bH",
        "outputId": "c22a3d1a-4a21-4e29-9b2d-efabca3558cb"
      },
      "execution_count": 6,
      "outputs": [
        {
          "output_type": "stream",
          "name": "stdout",
          "text": [
            "Welcome to FIRST LETTER OF NPAT game!\n",
            "Are you ready to play? type (yes/no):yes\n",
            "Let's start the game\n",
            "Here is your starting letter l\n",
            "Enter a name starting with l:lavanya\n",
            "Correct\n",
            "Enter a place starting with l:londan\n",
            "Correct\n",
            "Enter a animal name starting with l:ken\n",
            "Incorrect\n",
            "Enter a thing starting with l:lock\n",
            "Correct\n",
            "Your score for guessing letter l is 3\n",
            "Thank you for playing NPAT game!\n"
          ]
        }
      ]
    }
  ]
}